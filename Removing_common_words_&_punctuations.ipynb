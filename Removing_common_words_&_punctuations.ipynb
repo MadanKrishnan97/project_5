{
  "nbformat": 4,
  "nbformat_minor": 0,
  "metadata": {
    "colab": {
      "name": "Removing common words & punctuations.ipynb",
      "provenance": [],
      "authorship_tag": "ABX9TyP/sUMZUsIbni3pThvLs9Ov",
      "include_colab_link": true
    },
    "kernelspec": {
      "name": "python3",
      "display_name": "Python 3"
    }
  },
  "cells": [
    {
      "cell_type": "markdown",
      "metadata": {
        "id": "view-in-github",
        "colab_type": "text"
      },
      "source": [
        "<a href=\"https://colab.research.google.com/github/snaheen/project_5/blob/master/Removing_common_words_%26_punctuations.ipynb\" target=\"_parent\"><img src=\"https://colab.research.google.com/assets/colab-badge.svg\" alt=\"Open In Colab\"/></a>"
      ]
    },
    {
      "cell_type": "code",
      "metadata": {
        "id": "_wk32JpSaeSK",
        "colab_type": "code",
        "colab": {}
      },
      "source": [
        "#import basic libraries\n",
        "import sklearn\n",
        "import numpy as np\n",
        "import pandas as pd"
      ],
      "execution_count": 1,
      "outputs": []
    },
    {
      "cell_type": "markdown",
      "metadata": {
        "id": "fyYf8oj2KR_L",
        "colab_type": "text"
      },
      "source": [
        "# **Stopwords Removal**"
      ]
    },
    {
      "cell_type": "code",
      "metadata": {
        "colab_type": "code",
        "id": "8CZ6vcLt_p7l",
        "colab": {
          "base_uri": "https://localhost:8080/",
          "height": 51
        },
        "outputId": "6cfe558d-8ab3-437b-9c3b-dd3db5289758"
      },
      "source": [
        "#Importing stopwords from nltk library\n",
        "import nltk\n",
        "nltk.download('stopwords')\n",
        "from nltk.corpus import stopwords\n",
        "STOPWORDS = set(stopwords.words('english'))\n",
        "def stopwords_f(text):\n",
        "  return \" \".join([word for word in str(text).split() if word not in STOPWORDS])"
      ],
      "execution_count": 2,
      "outputs": [
        {
          "output_type": "stream",
          "text": [
            "[nltk_data] Downloading package stopwords to /root/nltk_data...\n",
            "[nltk_data]   Package stopwords is already up-to-date!\n"
          ],
          "name": "stdout"
        }
      ]
    },
    {
      "cell_type": "markdown",
      "metadata": {
        "id": "zDuZCu20KrJU",
        "colab_type": "text"
      },
      "source": [
        "# **Emoji and Emoticon Removal**"
      ]
    },
    {
      "cell_type": "code",
      "metadata": {
        "id": "1lLpwebkIlII",
        "colab_type": "code",
        "colab": {}
      },
      "source": [
        "# function to remove emoji\n",
        "import re\n",
        "\n",
        "def remove_emoji(string):\n",
        "    emoji_pattern = re.compile(\"[\"u\"\\U0001F600-\\U0001F64F\"  # emoticons\n",
        "                                  u\"\\U0001F300-\\U0001F5FF\"  # symbols & pictographs\n",
        "                                  u\"\\U0001F680-\\U0001F6FF\"  # transport & map symbols\n",
        "                                  u\"\\U0001F1E0-\\U0001F1FF\"  # flags (iOS)\n",
        "                                  u\"\\U00002702-\\U000027B0\"\n",
        "                                  u\"\\U000024C2-\\U0001F251\"\"]+\", flags=re.UNICODE)\n",
        "    return emoji_pattern.sub(r'', string)"
      ],
      "execution_count": 3,
      "outputs": []
    },
    {
      "cell_type": "code",
      "metadata": {
        "id": "QfzXwKISHwRg",
        "colab_type": "code",
        "colab": {
          "base_uri": "https://localhost:8080/",
          "height": 34
        },
        "outputId": "9141ccaa-9330-4e53-a1ba-f6c9c4b579d4"
      },
      "source": [
        "# function for removing emoticons\n",
        "!pip install emot\n",
        "import emot\n",
        "from emot.emo_unicode import UNICODE_EMO, EMOTICONS\n",
        "def remove_emoticons(text):\n",
        "         emoticon_pattern = re.compile(u'(' + u'|'.join(k for k in EMOTICONS) + u')')\n",
        "         return emoticon_pattern.sub(r'', text)"
      ],
      "execution_count": 4,
      "outputs": [
        {
          "output_type": "stream",
          "text": [
            "Requirement already satisfied: emot in /usr/local/lib/python3.6/dist-packages (2.1)\n"
          ],
          "name": "stdout"
        }
      ]
    },
    {
      "cell_type": "markdown",
      "metadata": {
        "id": "0tATLNXQJ7pV",
        "colab_type": "text"
      },
      "source": [
        "# **Loop for all the CSV**"
      ]
    },
    {
      "cell_type": "code",
      "metadata": {
        "id": "aK29ei2A0zdo",
        "colab_type": "code",
        "colab": {}
      },
      "source": [
        "filenames = ['noplastic.csv', 'plasticpollutes.csv', 'plasticpollution2.csv', 'sustainability.csv', 'zerowaste.csv' ]\n",
        "for f in filenames:\n",
        "      df = pd.read_csv(f)\n",
        "      df = df [['created_at', 'full_text', 'user']]\n",
        "\n",
        "      df[\"text_lower\"] = df['full_text'].str.lower()\n",
        "      df['text_punct'] = df ['text_lower'].str.replace('[^\\w\\s]','')\n",
        "     \n",
        "      df[\"text_stop\"] = df[\"text_punct\"].apply(stopwords_f)\n",
        "      df['text_stop'] = df['text_stop'].apply(remove_emoji)\n",
        "      \n",
        "      df['text_stop'] = df['text_stop'].apply(remove_emoticons)\n",
        "\n",
        "      df.to_csv('updated_{}'.format(f))"
      ],
      "execution_count": 5,
      "outputs": []
    },
    {
      "cell_type": "markdown",
      "metadata": {
        "id": "faC7x_TaL3XF",
        "colab_type": "text"
      },
      "source": [
        "## Data Exploration\n",
        "Checking for missing values"
      ]
    },
    {
      "cell_type": "code",
      "metadata": {
        "id": "VZmeKQNKK5n0",
        "colab_type": "code",
        "colab": {
          "base_uri": "https://localhost:8080/",
          "height": 425
        },
        "outputId": "773740ed-ed08-4c67-c097-901cefa913d3"
      },
      "source": [
        "data = pd.read_csv('updated_zerowaste.csv')\n",
        "data.head()"
      ],
      "execution_count": 10,
      "outputs": [
        {
          "output_type": "execute_result",
          "data": {
            "text/html": [
              "<div>\n",
              "<style scoped>\n",
              "    .dataframe tbody tr th:only-of-type {\n",
              "        vertical-align: middle;\n",
              "    }\n",
              "\n",
              "    .dataframe tbody tr th {\n",
              "        vertical-align: top;\n",
              "    }\n",
              "\n",
              "    .dataframe thead th {\n",
              "        text-align: right;\n",
              "    }\n",
              "</style>\n",
              "<table border=\"1\" class=\"dataframe\">\n",
              "  <thead>\n",
              "    <tr style=\"text-align: right;\">\n",
              "      <th></th>\n",
              "      <th>Unnamed: 0</th>\n",
              "      <th>created_at</th>\n",
              "      <th>full_text</th>\n",
              "      <th>user</th>\n",
              "      <th>text_lower</th>\n",
              "      <th>text_punct</th>\n",
              "      <th>text_stop</th>\n",
              "    </tr>\n",
              "  </thead>\n",
              "  <tbody>\n",
              "    <tr>\n",
              "      <th>0</th>\n",
              "      <td>0</td>\n",
              "      <td>2020-09-10 19:56:08+00:00</td>\n",
              "      <td>This needs to happen!! Wouldn’t trust ⁦@10Down...</td>\n",
              "      <td>{'id': 465927505, 'id_str': '465927505', 'name...</td>\n",
              "      <td>this needs to happen!! wouldn’t trust ⁦@10down...</td>\n",
              "      <td>this needs to happen wouldnt trust 10downingst...</td>\n",
              "      <td>needs happen wouldnt trust 10downingstreet pet...</td>\n",
              "    </tr>\n",
              "    <tr>\n",
              "      <th>1</th>\n",
              "      <td>1</td>\n",
              "      <td>2020-09-10 19:50:05+00:00</td>\n",
              "      <td>Thank you to our supporters! Each month, you h...</td>\n",
              "      <td>{'id': 2372750060, 'id_str': '2372750060', 'na...</td>\n",
              "      <td>thank you to our supporters! each month, you h...</td>\n",
              "      <td>thank you to our supporters each month you hel...</td>\n",
              "      <td>thank supporters month help us rescue fresh pe...</td>\n",
              "    </tr>\n",
              "    <tr>\n",
              "      <th>2</th>\n",
              "      <td>2</td>\n",
              "      <td>2020-09-10 19:47:09+00:00</td>\n",
              "      <td>Hi twitter👋 I made a climate blog! My first po...</td>\n",
              "      <td>{'id': 838857379278127105, 'id_str': '83885737...</td>\n",
              "      <td>hi twitter👋 i made a climate blog! my first po...</td>\n",
              "      <td>hi twitter i made a climate blog my first post...</td>\n",
              "      <td>hi twitter made climate blog first post discus...</td>\n",
              "    </tr>\n",
              "    <tr>\n",
              "      <th>3</th>\n",
              "      <td>3</td>\n",
              "      <td>2020-09-10 19:47:00+00:00</td>\n",
              "      <td>How have small businesses coped with lockdown ...</td>\n",
              "      <td>{'id': 1096009570240159745, 'id_str': '1096009...</td>\n",
              "      <td>how have small businesses coped with lockdown ...</td>\n",
              "      <td>how have small businesses coped with lockdown ...</td>\n",
              "      <td>small businesses coped lockdown covid19 pandem...</td>\n",
              "    </tr>\n",
              "    <tr>\n",
              "      <th>4</th>\n",
              "      <td>4</td>\n",
              "      <td>2020-09-10 19:46:26+00:00</td>\n",
              "      <td>Somebody come get her, she’s giving away like ...</td>\n",
              "      <td>{'id': 1087138093080096768, 'id_str': '1087138...</td>\n",
              "      <td>somebody come get her, she’s giving away like ...</td>\n",
              "      <td>somebody come get her shes giving away like a ...</td>\n",
              "      <td>somebody come get shes giving away like giver ...</td>\n",
              "    </tr>\n",
              "  </tbody>\n",
              "</table>\n",
              "</div>"
            ],
            "text/plain": [
              "   Unnamed: 0  ...                                          text_stop\n",
              "0           0  ...  needs happen wouldnt trust 10downingstreet pet...\n",
              "1           1  ...  thank supporters month help us rescue fresh pe...\n",
              "2           2  ...  hi twitter made climate blog first post discus...\n",
              "3           3  ...  small businesses coped lockdown covid19 pandem...\n",
              "4           4  ...  somebody come get shes giving away like giver ...\n",
              "\n",
              "[5 rows x 7 columns]"
            ]
          },
          "metadata": {
            "tags": []
          },
          "execution_count": 10
        }
      ]
    },
    {
      "cell_type": "code",
      "metadata": {
        "id": "lYqe6-quLaTo",
        "colab_type": "code",
        "colab": {
          "base_uri": "https://localhost:8080/",
          "height": 255
        },
        "outputId": "04acf97c-d7df-4dfa-a43b-e4e66b5913a7"
      },
      "source": [
        "data.info()"
      ],
      "execution_count": 11,
      "outputs": [
        {
          "output_type": "stream",
          "text": [
            "<class 'pandas.core.frame.DataFrame'>\n",
            "RangeIndex: 302 entries, 0 to 301\n",
            "Data columns (total 7 columns):\n",
            " #   Column      Non-Null Count  Dtype \n",
            "---  ------      --------------  ----- \n",
            " 0   Unnamed: 0  302 non-null    int64 \n",
            " 1   created_at  302 non-null    object\n",
            " 2   full_text   302 non-null    object\n",
            " 3   user        300 non-null    object\n",
            " 4   text_lower  302 non-null    object\n",
            " 5   text_punct  302 non-null    object\n",
            " 6   text_stop   302 non-null    object\n",
            "dtypes: int64(1), object(6)\n",
            "memory usage: 16.6+ KB\n"
          ],
          "name": "stdout"
        }
      ]
    },
    {
      "cell_type": "code",
      "metadata": {
        "id": "iZiI4LTFLhtH",
        "colab_type": "code",
        "colab": {
          "base_uri": "https://localhost:8080/",
          "height": 153
        },
        "outputId": "d2abc131-1887-4a9a-e138-441dd8f799c5"
      },
      "source": [
        "data.isnull().sum()"
      ],
      "execution_count": 15,
      "outputs": [
        {
          "output_type": "execute_result",
          "data": {
            "text/plain": [
              "Unnamed: 0    0\n",
              "created_at    0\n",
              "full_text     0\n",
              "user          2\n",
              "text_lower    0\n",
              "text_punct    0\n",
              "text_stop     0\n",
              "dtype: int64"
            ]
          },
          "metadata": {
            "tags": []
          },
          "execution_count": 15
        }
      ]
    }
  ]
}