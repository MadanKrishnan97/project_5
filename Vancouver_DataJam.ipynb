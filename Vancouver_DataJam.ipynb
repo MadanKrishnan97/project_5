{
  "nbformat": 4,
  "nbformat_minor": 0,
  "metadata": {
    "colab": {
      "name": "Vancouver DataJam.ipynb",
      "provenance": [],
      "authorship_tag": "ABX9TyNkWnqphY6GaJuXqYVLZm6n",
      "include_colab_link": true
    },
    "kernelspec": {
      "name": "python3",
      "display_name": "Python 3"
    }
  },
  "cells": [
    {
      "cell_type": "markdown",
      "metadata": {
        "id": "view-in-github",
        "colab_type": "text"
      },
      "source": [
        "<a href=\"https://colab.research.google.com/github/snaheen/project_5/blob/master/Vancouver_DataJam.ipynb\" target=\"_parent\"><img src=\"https://colab.research.google.com/assets/colab-badge.svg\" alt=\"Open In Colab\"/></a>"
      ]
    },
    {
      "cell_type": "code",
      "metadata": {
        "id": "_wk32JpSaeSK",
        "colab_type": "code",
        "colab": {}
      },
      "source": [
        "#import basic libraries\n",
        "import sklearn\n",
        "import numpy as np\n",
        "import pandas as pd\n",
        "import nltk\n"
      ],
      "execution_count": 1,
      "outputs": []
    },
    {
      "cell_type": "code",
      "metadata": {
        "colab_type": "code",
        "id": "8CZ6vcLt_p7l",
        "colab": {
          "base_uri": "https://localhost:8080/",
          "height": 68
        },
        "outputId": "d0139b75-8781-44e6-c3a9-1a6ff749fd7d"
      },
      "source": [
        "#Importing stopwords from nltk library\n",
        "nltk.download('stopwords')"
      ],
      "execution_count": 2,
      "outputs": [
        {
          "output_type": "stream",
          "text": [
            "[nltk_data] Downloading package stopwords to /root/nltk_data...\n",
            "[nltk_data]   Package stopwords is already up-to-date!\n"
          ],
          "name": "stdout"
        },
        {
          "output_type": "execute_result",
          "data": {
            "text/plain": [
              "True"
            ]
          },
          "metadata": {
            "tags": []
          },
          "execution_count": 2
        }
      ]
    },
    {
      "cell_type": "code",
      "metadata": {
        "id": "aK29ei2A0zdo",
        "colab_type": "code",
        "colab": {}
      },
      "source": [
        "filenames = ['noplastic.csv', 'plasticpollutes.csv', 'plasticpollution2.csv', 'sustainability.csv', 'zerowaste.csv' ]\n",
        "for f in filenames:\n",
        "      df = pd.read_csv(f)\n",
        "      df = df [['created_at', 'full_text', 'user']]\n",
        "      df[\"text_lower\"] = df['full_text'].str.lower()\n",
        "      df['text_punct'] = df ['text_lower'].str.replace('[^\\w\\s]','')\n",
        "      from nltk.corpus import stopwords\n",
        "      STOPWORDS = set(stopwords.words('english'))\n",
        "      def stopwords_f(text):\n",
        "        return \" \".join([word for word in str(text).split() if word not in STOPWORDS])\n",
        "      df[\"text_stop\"] = df[\"text_punct\"].apply(stopwords_f)\n",
        "      df.to_csv('updated_{}'.format(f))"
      ],
      "execution_count": 3,
      "outputs": []
    }
  ]
}